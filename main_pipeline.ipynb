{
 "cells": [
  {
   "cell_type": "markdown",
   "id": "c92c2862",
   "metadata": {},
   "source": [
    "# 10-year return / ratio"
   ]
  },
  {
   "cell_type": "code",
   "execution_count": null,
   "id": "a39fe968",
   "metadata": {},
   "outputs": [],
   "source": [
    "%run ./ten_year_return.ipynb"
   ]
  },
  {
   "cell_type": "markdown",
   "id": "b917ff4a",
   "metadata": {},
   "source": [
    "# 5-year return"
   ]
  },
  {
   "cell_type": "code",
   "execution_count": null,
   "id": "a460bdcd",
   "metadata": {},
   "outputs": [],
   "source": [
    "%run ./five_year_return.ipynb"
   ]
  },
  {
   "cell_type": "markdown",
   "id": "714e5d84",
   "metadata": {},
   "source": [
    "# 3-year"
   ]
  },
  {
   "cell_type": "code",
   "execution_count": null,
   "id": "46d5b264",
   "metadata": {},
   "outputs": [],
   "source": [
    "%run ./three_year_return.ipynb"
   ]
  }
 ],
 "metadata": {
  "kernelspec": {
   "display_name": "Python 3 (ipykernel)",
   "language": "python",
   "name": "python3"
  },
  "language_info": {
   "codemirror_mode": {
    "name": "ipython",
    "version": 3
   },
   "file_extension": ".py",
   "mimetype": "text/x-python",
   "name": "python",
   "nbconvert_exporter": "python",
   "pygments_lexer": "ipython3",
   "version": "3.10.6"
  }
 },
 "nbformat": 4,
 "nbformat_minor": 5
}
