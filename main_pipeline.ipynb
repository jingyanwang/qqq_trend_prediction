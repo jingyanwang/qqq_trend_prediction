{
 "cells": [
  {
   "cell_type": "markdown",
   "id": "b4ece9d9",
   "metadata": {},
   "source": [
    "# load data"
   ]
  },
  {
   "cell_type": "code",
   "execution_count": null,
   "id": "b673e410",
   "metadata": {},
   "outputs": [],
   "source": [
    "%run ./load_data.ipynb"
   ]
  },
  {
   "cell_type": "code",
   "execution_count": null,
   "id": "26dff9b4",
   "metadata": {},
   "outputs": [],
   "source": []
  },
  {
   "cell_type": "markdown",
   "id": "18e6837d",
   "metadata": {},
   "source": [
    "# lable engineering"
   ]
  },
  {
   "cell_type": "code",
   "execution_count": null,
   "id": "94fc1251",
   "metadata": {},
   "outputs": [],
   "source": [
    "%run ./label_engineering.ipynb"
   ]
  },
  {
   "cell_type": "markdown",
   "id": "319b399a",
   "metadata": {},
   "source": [
    "# return"
   ]
  },
  {
   "cell_type": "code",
   "execution_count": null,
   "id": "18009b40",
   "metadata": {},
   "outputs": [],
   "source": [
    "%run ./qqq_one_year_return.ipynb"
   ]
  },
  {
   "cell_type": "code",
   "execution_count": null,
   "id": "3f8a875c",
   "metadata": {},
   "outputs": [],
   "source": [
    "%run ./qqq_three_year_return.ipynb"
   ]
  },
  {
   "cell_type": "code",
   "execution_count": null,
   "id": "d92c463d",
   "metadata": {},
   "outputs": [],
   "source": [
    "%run ./qqq_ten_year_return.ipynb"
   ]
  },
  {
   "cell_type": "code",
   "execution_count": null,
   "id": "23de74b7",
   "metadata": {},
   "outputs": [],
   "source": []
  },
  {
   "cell_type": "code",
   "execution_count": null,
   "id": "2d4d9677",
   "metadata": {},
   "outputs": [],
   "source": []
  },
  {
   "cell_type": "code",
   "execution_count": null,
   "id": "17103c22",
   "metadata": {},
   "outputs": [],
   "source": []
  }
 ],
 "metadata": {
  "kernelspec": {
   "display_name": "Python 3 (ipykernel)",
   "language": "python",
   "name": "python3"
  },
  "language_info": {
   "codemirror_mode": {
    "name": "ipython",
    "version": 3
   },
   "file_extension": ".py",
   "mimetype": "text/x-python",
   "name": "python",
   "nbconvert_exporter": "python",
   "pygments_lexer": "ipython3",
   "version": "3.10.6"
  }
 },
 "nbformat": 4,
 "nbformat_minor": 5
}
