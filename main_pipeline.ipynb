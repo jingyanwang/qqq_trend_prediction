{
 "cells": [
  {
   "cell_type": "markdown",
   "id": "b4ece9d9",
   "metadata": {},
   "source": [
    "# load data"
   ]
  },
  {
   "cell_type": "code",
   "execution_count": null,
   "id": "b673e410",
   "metadata": {},
   "outputs": [],
   "source": [
    "%run ./load_data.ipynb"
   ]
  },
  {
   "cell_type": "markdown",
   "id": "18e6837d",
   "metadata": {},
   "source": [
    "# lable engineering"
   ]
  },
  {
   "cell_type": "code",
   "execution_count": null,
   "id": "94fc1251",
   "metadata": {},
   "outputs": [],
   "source": [
    "%run ./label_engineering.ipynb"
   ]
  },
  {
   "cell_type": "markdown",
   "id": "9addd1f7",
   "metadata": {},
   "source": [
    "# return"
   ]
  },
  {
   "cell_type": "code",
   "execution_count": null,
   "id": "34177078",
   "metadata": {},
   "outputs": [],
   "source": [
    "%run ./qqq_one_year_return.ipynb"
   ]
  },
  {
   "cell_type": "code",
   "execution_count": null,
   "id": "3ba61202",
   "metadata": {},
   "outputs": [],
   "source": [
    "%run ./qqq_three_year_return.ipynb"
   ]
  },
  {
   "cell_type": "code",
   "execution_count": null,
   "id": "51607359",
   "metadata": {},
   "outputs": [],
   "source": [
    "%run ./qqq_ten_year_return.ipynb"
   ]
  },
  {
   "cell_type": "code",
   "execution_count": null,
   "id": "6db70dfd",
   "metadata": {},
   "outputs": [],
   "source": [
    "%run ./qqq_weekly_return.ipynb"
   ]
  },
  {
   "cell_type": "code",
   "execution_count": null,
   "id": "13cb34ec",
   "metadata": {},
   "outputs": [],
   "source": [
    "%run qqq_daily_return.ipynb"
   ]
  },
  {
   "cell_type": "markdown",
   "id": "be0f4c25",
   "metadata": {},
   "source": [
    "# feature engineering"
   ]
  },
  {
   "cell_type": "code",
   "execution_count": null,
   "id": "4622566e",
   "metadata": {},
   "outputs": [],
   "source": [
    "%run feature_engineering.ipynb"
   ]
  },
  {
   "cell_type": "markdown",
   "id": "62153dfd",
   "metadata": {},
   "source": [
    "# feature processing"
   ]
  },
  {
   "cell_type": "code",
   "execution_count": 1,
   "id": "353db70b",
   "metadata": {},
   "outputs": [],
   "source": [
    "%run feature_processing.ipynb"
   ]
  },
  {
   "cell_type": "markdown",
   "id": "8077bc0c",
   "metadata": {},
   "source": [
    "# close-to-open ratio"
   ]
  },
  {
   "cell_type": "code",
   "execution_count": null,
   "id": "4e6bca05",
   "metadata": {},
   "outputs": [],
   "source": [
    "%run model_selection_ratio.ipynb"
   ]
  },
  {
   "cell_type": "markdown",
   "id": "388ce8e8",
   "metadata": {},
   "source": [
    "# daily rise model seleciton"
   ]
  },
  {
   "cell_type": "code",
   "execution_count": null,
   "id": "8c617e1a",
   "metadata": {},
   "outputs": [],
   "source": [
    "%run model_selection.ipynb"
   ]
  },
  {
   "cell_type": "markdown",
   "id": "3fb9f13b",
   "metadata": {},
   "source": [
    "# leverage simulation"
   ]
  },
  {
   "cell_type": "code",
   "execution_count": null,
   "id": "4382646b",
   "metadata": {},
   "outputs": [],
   "source": [
    "%run nasdaq_3x_simulation.ipynb"
   ]
  }
 ],
 "metadata": {
  "kernelspec": {
   "display_name": "Python 3 (ipykernel)",
   "language": "python",
   "name": "python3"
  },
  "language_info": {
   "codemirror_mode": {
    "name": "ipython",
    "version": 3
   },
   "file_extension": ".py",
   "mimetype": "text/x-python",
   "name": "python",
   "nbconvert_exporter": "python",
   "pygments_lexer": "ipython3",
   "version": "3.10.6"
  }
 },
 "nbformat": 4,
 "nbformat_minor": 5
}
