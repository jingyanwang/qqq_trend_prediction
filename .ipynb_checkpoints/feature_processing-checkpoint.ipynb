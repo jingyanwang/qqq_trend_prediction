{
 "cells": [
  {
   "cell_type": "code",
   "execution_count": 1,
   "id": "0554fbf9",
   "metadata": {},
   "outputs": [],
   "source": [
    "%run ./setting.ipynb"
   ]
  },
  {
   "cell_type": "code",
   "execution_count": 13,
   "id": "41acf2d6",
   "metadata": {},
   "outputs": [],
   "source": [
    "from sklearn import preprocessing"
   ]
  },
  {
   "cell_type": "markdown",
   "id": "de6305ba",
   "metadata": {},
   "source": [
    "# join feature and label"
   ]
  },
  {
   "cell_type": "code",
   "execution_count": 2,
   "id": "bcfdbaa9",
   "metadata": {},
   "outputs": [
    {
     "data": {
      "text/plain": [
       "9514"
      ]
     },
     "execution_count": 2,
     "metadata": {},
     "output_type": "execute_result"
    }
   ],
   "source": [
    "pd.read_parquet(\n",
    "    os.path.join(\n",
    "    data_path,\n",
    "    \"NDX_features.parquet\")\n",
    ").to_sql(\n",
    "    \"features\", \n",
    "    conn,\n",
    "    if_exists = \"replace\",\n",
    "    )"
   ]
  },
  {
   "cell_type": "code",
   "execution_count": 3,
   "id": "2ebcfbf2",
   "metadata": {},
   "outputs": [
    {
     "data": {
      "text/plain": [
       "9514"
      ]
     },
     "execution_count": 3,
     "metadata": {},
     "output_type": "execute_result"
    }
   ],
   "source": [
    "pd.read_parquet(\n",
    "    os.path.join(\n",
    "    data_path,\n",
    "    \"NDX_daily_label.parquet\")\n",
    ").to_sql(\n",
    "    \"labels\", \n",
    "    conn,\n",
    "    if_exists = \"replace\",\n",
    "    )"
   ]
  },
  {
   "cell_type": "code",
   "execution_count": 4,
   "id": "5d378e2d",
   "metadata": {},
   "outputs": [],
   "source": [
    "features = sql(f\"select * from features\").columns\n",
    "\n",
    "sql_features = []\n",
    "for c in features:\n",
    "    if 'feature_' in c:\n",
    "        sql_features.append(f\"b.{c}\")\n",
    "\n",
    "sql_features = \",\\n\".join(sql_features)"
   ]
  },
  {
   "cell_type": "code",
   "execution_count": 5,
   "id": "262c1c33",
   "metadata": {},
   "outputs": [],
   "source": [
    "data = sql(f\"\"\"\n",
    "select \n",
    "a.*,\n",
    "{sql_features}\n",
    "from labels as a\n",
    "left join features as b\n",
    "on a.Date = b.Date\n",
    "\"\"\")"
   ]
  },
  {
   "cell_type": "markdown",
   "id": "29718c69",
   "metadata": {},
   "source": [
    "# features"
   ]
  },
  {
   "cell_type": "code",
   "execution_count": 6,
   "id": "4c931fba",
   "metadata": {},
   "outputs": [],
   "source": [
    "feature_name = []\n",
    "categorical_feature = []\n",
    "numemrical_feature = []\n",
    "\n",
    "for c in data.columns:\n",
    "    if 'feature_' in c:\n",
    "        feature_name.append(c)\n",
    "    if 'feature_cat_' in c:\n",
    "        categorical_feature.append(c)\n",
    "    if 'feature_num_' in c:\n",
    "        numemrical_feature.append(c)"
   ]
  },
  {
   "cell_type": "code",
   "execution_count": 7,
   "id": "1780a343",
   "metadata": {},
   "outputs": [],
   "source": [
    "np.save(\n",
    "    os.path.join(\n",
    "    data_path,\n",
    "    'feature_name.npy',\n",
    "    ),\n",
    "    np.array(feature_name),    \n",
    "    )"
   ]
  },
  {
   "cell_type": "code",
   "execution_count": 8,
   "id": "9aba5f14",
   "metadata": {},
   "outputs": [],
   "source": [
    "np.save(\n",
    "    os.path.join(\n",
    "    data_path,\n",
    "    'categorical_feature.npy',\n",
    "    ),\n",
    "    np.array(categorical_feature),    \n",
    "    )"
   ]
  },
  {
   "cell_type": "code",
   "execution_count": 9,
   "id": "22860481",
   "metadata": {},
   "outputs": [],
   "source": [
    "np.save(\n",
    "    os.path.join(\n",
    "    data_path,\n",
    "    'numemrical_feature.npy',\n",
    "    ),\n",
    "    np.array(numemrical_feature),    \n",
    "    )"
   ]
  },
  {
   "cell_type": "markdown",
   "id": "99f43c90",
   "metadata": {},
   "source": [
    "## filling the missing values"
   ]
  },
  {
   "cell_type": "code",
   "execution_count": 10,
   "id": "2692f480",
   "metadata": {},
   "outputs": [
    {
     "name": "stdout",
     "output_type": "stream",
     "text": [
      "CPU times: total: 31.2 ms\n",
      "Wall time: 43.5 ms\n"
     ]
    }
   ],
   "source": [
    "%%time\n",
    "\n",
    "X_filled = data.copy()\n",
    "\n",
    "for c in feature_name:\n",
    "    if c not in categorical_feature:\n",
    "        X_filled[c] = X_filled[c].fillna(X_filled[c].median())\n",
    "        X_filled[c] = X_filled[c].replace([np.inf, -np.inf], 1000000,)\n",
    "    if c in categorical_feature:\n",
    "        X_filled[c] = X_filled[c].fillna('')"
   ]
  },
  {
   "cell_type": "code",
   "execution_count": 11,
   "id": "ac741e01",
   "metadata": {},
   "outputs": [],
   "source": [
    "X_filled.to_parquet(\n",
    "    os.path.join(\n",
    "    data_path,\n",
    "    'data_filled.parquet',\n",
    "    ),\n",
    "    index = False,\n",
    "    )"
   ]
  },
  {
   "cell_type": "markdown",
   "id": "880a0683",
   "metadata": {},
   "source": [
    "# encodding the categorical features"
   ]
  },
  {
   "cell_type": "code",
   "execution_count": 14,
   "id": "4e3d59e7",
   "metadata": {},
   "outputs": [
    {
     "name": "stdout",
     "output_type": "stream",
     "text": [
      "CPU times: total: 15.6 ms\n",
      "Wall time: 19 ms\n"
     ]
    }
   ],
   "source": [
    "%%time\n",
    "\n",
    "X_encoded = data.copy()\n",
    "\n",
    "for c in categorical_feature:   \n",
    "    le = preprocessing.LabelEncoder()\n",
    "    le.fit(X_encoded[c])\n",
    "    X_encoded[c] = le.transform(X_encoded[c])"
   ]
  },
  {
   "cell_type": "code",
   "execution_count": 15,
   "id": "533c9054",
   "metadata": {},
   "outputs": [],
   "source": [
    "X_encoded.to_parquet(\n",
    "    os.path.join(\n",
    "    data_path,\n",
    "    'data_encoded.parquet',\n",
    "    ),\n",
    "    index = False,\n",
    "    )"
   ]
  },
  {
   "cell_type": "markdown",
   "id": "1f94fc91",
   "metadata": {},
   "source": [
    "# labes"
   ]
  },
  {
   "cell_type": "code",
   "execution_count": 12,
   "id": "7079d8d9",
   "metadata": {},
   "outputs": [],
   "source": [
    "y = data['label__close_to_open_ratio']"
   ]
  },
  {
   "cell_type": "markdown",
   "id": "f8031648",
   "metadata": {},
   "source": [
    "# end"
   ]
  }
 ],
 "metadata": {
  "kernelspec": {
   "display_name": "Python 3 (ipykernel)",
   "language": "python",
   "name": "python3"
  },
  "language_info": {
   "codemirror_mode": {
    "name": "ipython",
    "version": 3
   },
   "file_extension": ".py",
   "mimetype": "text/x-python",
   "name": "python",
   "nbconvert_exporter": "python",
   "pygments_lexer": "ipython3",
   "version": "3.10.6"
  }
 },
 "nbformat": 4,
 "nbformat_minor": 5
}
