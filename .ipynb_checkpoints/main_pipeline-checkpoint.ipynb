{
 "cells": [
  {
   "cell_type": "markdown",
   "id": "b4ece9d9",
   "metadata": {},
   "source": [
    "# load data"
   ]
  },
  {
   "cell_type": "code",
   "execution_count": null,
   "id": "b673e410",
   "metadata": {},
   "outputs": [],
   "source": [
    "%run ./load_data.ipynb"
   ]
  },
  {
   "cell_type": "markdown",
   "id": "18e6837d",
   "metadata": {},
   "source": [
    "# lable engineering"
   ]
  },
  {
   "cell_type": "code",
   "execution_count": null,
   "id": "94fc1251",
   "metadata": {},
   "outputs": [],
   "source": [
    "%run ./label_engineering.ipynb"
   ]
  }
 ],
 "metadata": {
  "kernelspec": {
   "display_name": "Python 3 (ipykernel)",
   "language": "python",
   "name": "python3"
  },
  "language_info": {
   "codemirror_mode": {
    "name": "ipython",
    "version": 3
   },
   "file_extension": ".py",
   "mimetype": "text/x-python",
   "name": "python",
   "nbconvert_exporter": "python",
   "pygments_lexer": "ipython3",
   "version": "3.10.6"
  }
 },
 "nbformat": 4,
 "nbformat_minor": 5
}
