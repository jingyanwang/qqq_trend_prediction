{
 "cells": [
  {
   "cell_type": "code",
   "execution_count": 1,
   "id": "cca5c859",
   "metadata": {},
   "outputs": [],
   "source": [
    "%run ./setting.ipynb"
   ]
  },
  {
   "cell_type": "code",
   "execution_count": 2,
   "id": "b059941e",
   "metadata": {},
   "outputs": [],
   "source": [
    "NDX = pd.read_parquet(\n",
    "    os.path.join(\n",
    "    data_path,\n",
    "    \"NDX.parquet\")\n",
    ")"
   ]
  },
  {
   "cell_type": "code",
   "execution_count": 3,
   "id": "da2a1457",
   "metadata": {},
   "outputs": [
    {
     "data": {
      "text/plain": [
       "9514"
      ]
     },
     "execution_count": 3,
     "metadata": {},
     "output_type": "execute_result"
    }
   ],
   "source": [
    "NDX.to_sql(\n",
    "    \"NDX\", \n",
    "    conn,\n",
    "    if_exists = \"replace\",\n",
    "    )"
   ]
  },
  {
   "cell_type": "markdown",
   "id": "b4f89338",
   "metadata": {},
   "source": [
    "# last 10 days "
   ]
  },
  {
   "cell_type": "code",
   "execution_count": 4,
   "id": "c84365b2",
   "metadata": {},
   "outputs": [],
   "source": [
    "day = 1"
   ]
  },
  {
   "cell_type": "code",
   "execution_count": 5,
   "id": "ac969110",
   "metadata": {},
   "outputs": [],
   "source": [
    "features = [\n",
    "    'Open',\n",
    "    'Close',\n",
    "    'High',\n",
    "    'Low',\n",
    "    'Volume',\n",
    "    'close_to_open_ratio',\n",
    "    'high_to_low_ratio',\n",
    "]\n",
    "\n",
    "features_cat = [\n",
    "    'daily_rise'\n",
    "]"
   ]
  },
  {
   "cell_type": "code",
   "execution_count": 6,
   "id": "8e86f6de",
   "metadata": {},
   "outputs": [
    {
     "data": {
      "text/plain": [
       "9514"
      ]
     },
     "execution_count": 6,
     "metadata": {},
     "output_type": "execute_result"
    }
   ],
   "source": [
    "sql(f\"\"\"\n",
    "select \n",
    "row_number() over (order by Date asc) as Date_rank,\n",
    "*, \n",
    "Close/Open as close_to_open_ratio,\n",
    "High/Low as high_to_low_ratio,\n",
    "case\n",
    "    when \n",
    "    Close > Open\n",
    "    then 'rise'\n",
    "    else 'drop'\n",
    "end as daily_rise\n",
    "from NDX\n",
    "\"\"\").to_sql(\n",
    "    \"raw_feature\", \n",
    "    conn,\n",
    "    if_exists = \"replace\",\n",
    "    )"
   ]
  },
  {
   "cell_type": "code",
   "execution_count": 7,
   "id": "e39d0a28",
   "metadata": {},
   "outputs": [],
   "source": [
    "days = range(1,10)"
   ]
  },
  {
   "cell_type": "code",
   "execution_count": 8,
   "id": "c89f8c45",
   "metadata": {},
   "outputs": [
    {
     "name": "stdout",
     "output_type": "stream",
     "text": [
      "daily_feature_1_day_ago\n",
      "daily_feature_2_day_ago\n",
      "daily_feature_3_day_ago\n",
      "daily_feature_4_day_ago\n",
      "daily_feature_5_day_ago\n",
      "daily_feature_6_day_ago\n",
      "daily_feature_7_day_ago\n",
      "daily_feature_8_day_ago\n",
      "daily_feature_9_day_ago\n"
     ]
    }
   ],
   "source": [
    "for day in days:\n",
    "    \n",
    "    sql_feature_columns = []\n",
    "    \n",
    "    for c in features:\n",
    "        sql_feature_columns.append(f\"b.{c} as feature_num__{c}__{day}_day_ago\")\n",
    "    for c in features_cat:\n",
    "        sql_feature_columns.append(f\"b.{c} as feature_cat__{c}__{day}_day_ago\")\n",
    "\n",
    "    sql_feature_columns = \",\\n\".join(sql_feature_columns)\n",
    "\n",
    "    sql(f\"\"\"\n",
    "    select \n",
    "    a.Date,\n",
    "    {sql_feature_columns}\n",
    "    from raw_feature as a\n",
    "    left join raw_feature as b\n",
    "    on b.Date_rank + {day} = a.Date_rank\n",
    "    \"\"\").to_sql(\n",
    "        f\"daily_feature_{day}_day_ago\", \n",
    "        conn,\n",
    "        if_exists = \"replace\",\n",
    "        )\n",
    "    \n",
    "    print(f\"daily_feature_{day}_day_ago\")"
   ]
  },
  {
   "cell_type": "markdown",
   "id": "1a370a07",
   "metadata": {},
   "source": [
    "# feature merging"
   ]
  },
  {
   "cell_type": "markdown",
   "id": "18c57c0d",
   "metadata": {},
   "source": [
    "## base table"
   ]
  },
  {
   "cell_type": "code",
   "execution_count": 9,
   "id": "4cec96a5",
   "metadata": {},
   "outputs": [
    {
     "data": {
      "text/plain": [
       "9514"
      ]
     },
     "execution_count": 9,
     "metadata": {},
     "output_type": "execute_result"
    }
   ],
   "source": [
    "lable = pd.read_parquet(\n",
    "os.path.join(\n",
    "data_path,\n",
    "\"NDX_daily_label.parquet\")\n",
    ")\n",
    "\n",
    "lable.to_sql(\n",
    "    \"lable\", \n",
    "    conn,\n",
    "    if_exists = \"replace\",\n",
    "    )"
   ]
  },
  {
   "cell_type": "code",
   "execution_count": 10,
   "id": "794216c1",
   "metadata": {},
   "outputs": [
    {
     "data": {
      "text/plain": [
       "9514"
      ]
     },
     "execution_count": 10,
     "metadata": {},
     "output_type": "execute_result"
    }
   ],
   "source": [
    "sql(f\"\"\"\n",
    "select distinct Date\n",
    "from lable\n",
    "order by Date asc\n",
    "\"\"\").to_sql(\n",
    "    \"stage_000\", \n",
    "    conn,\n",
    "    if_exists = \"replace\",\n",
    "    )"
   ]
  },
  {
   "cell_type": "code",
   "execution_count": 11,
   "id": "bded86b7",
   "metadata": {},
   "outputs": [
    {
     "data": {
      "text/html": [
       "<div>\n",
       "<style scoped>\n",
       "    .dataframe tbody tr th:only-of-type {\n",
       "        vertical-align: middle;\n",
       "    }\n",
       "\n",
       "    .dataframe tbody tr th {\n",
       "        vertical-align: top;\n",
       "    }\n",
       "\n",
       "    .dataframe thead th {\n",
       "        text-align: right;\n",
       "    }\n",
       "</style>\n",
       "<table border=\"1\" class=\"dataframe\">\n",
       "  <thead>\n",
       "    <tr style=\"text-align: right;\">\n",
       "      <th></th>\n",
       "      <th>index</th>\n",
       "      <th>Date</th>\n",
       "    </tr>\n",
       "  </thead>\n",
       "  <tbody>\n",
       "    <tr>\n",
       "      <th>0</th>\n",
       "      <td>0</td>\n",
       "      <td>1985-10-01 00:00:00-04:00</td>\n",
       "    </tr>\n",
       "    <tr>\n",
       "      <th>1</th>\n",
       "      <td>1</td>\n",
       "      <td>1985-10-02 00:00:00-04:00</td>\n",
       "    </tr>\n",
       "    <tr>\n",
       "      <th>2</th>\n",
       "      <td>2</td>\n",
       "      <td>1985-10-03 00:00:00-04:00</td>\n",
       "    </tr>\n",
       "    <tr>\n",
       "      <th>3</th>\n",
       "      <td>3</td>\n",
       "      <td>1985-10-04 00:00:00-04:00</td>\n",
       "    </tr>\n",
       "    <tr>\n",
       "      <th>4</th>\n",
       "      <td>4</td>\n",
       "      <td>1985-10-07 00:00:00-04:00</td>\n",
       "    </tr>\n",
       "    <tr>\n",
       "      <th>5</th>\n",
       "      <td>5</td>\n",
       "      <td>1985-10-08 00:00:00-04:00</td>\n",
       "    </tr>\n",
       "    <tr>\n",
       "      <th>6</th>\n",
       "      <td>6</td>\n",
       "      <td>1985-10-09 00:00:00-04:00</td>\n",
       "    </tr>\n",
       "    <tr>\n",
       "      <th>7</th>\n",
       "      <td>7</td>\n",
       "      <td>1985-10-10 00:00:00-04:00</td>\n",
       "    </tr>\n",
       "    <tr>\n",
       "      <th>8</th>\n",
       "      <td>8</td>\n",
       "      <td>1985-10-11 00:00:00-04:00</td>\n",
       "    </tr>\n",
       "    <tr>\n",
       "      <th>9</th>\n",
       "      <td>9</td>\n",
       "      <td>1985-10-14 00:00:00-04:00</td>\n",
       "    </tr>\n",
       "  </tbody>\n",
       "</table>\n",
       "</div>"
      ],
      "text/plain": [
       "   index                       Date\n",
       "0      0  1985-10-01 00:00:00-04:00\n",
       "1      1  1985-10-02 00:00:00-04:00\n",
       "2      2  1985-10-03 00:00:00-04:00\n",
       "3      3  1985-10-04 00:00:00-04:00\n",
       "4      4  1985-10-07 00:00:00-04:00\n",
       "5      5  1985-10-08 00:00:00-04:00\n",
       "6      6  1985-10-09 00:00:00-04:00\n",
       "7      7  1985-10-10 00:00:00-04:00\n",
       "8      8  1985-10-11 00:00:00-04:00\n",
       "9      9  1985-10-14 00:00:00-04:00"
      ]
     },
     "execution_count": 11,
     "metadata": {},
     "output_type": "execute_result"
    }
   ],
   "source": [
    "sql(f\"\"\"\n",
    "select * \n",
    "from stage_000\n",
    "limit 10\n",
    "\"\"\")"
   ]
  },
  {
   "cell_type": "code",
   "execution_count": 12,
   "id": "a4928232",
   "metadata": {},
   "outputs": [],
   "source": [
    "feature_tables = {\n",
    "\"daily_feature_1_day_ago\":[\"Date\"],\n",
    "\"daily_feature_2_day_ago\":[\"Date\"],\n",
    "\"daily_feature_3_day_ago\":[\"Date\"],\n",
    "\"daily_feature_4_day_ago\":[\"Date\"],\n",
    "\"daily_feature_5_day_ago\":[\"Date\"],\n",
    "\"daily_feature_6_day_ago\":[\"Date\"],\n",
    "\"daily_feature_7_day_ago\":[\"Date\"],\n",
    "\"daily_feature_8_day_ago\":[\"Date\"],\n",
    "\"daily_feature_9_day_ago\":[\"Date\"],\n",
    "}"
   ]
  },
  {
   "cell_type": "code",
   "execution_count": 13,
   "id": "e2a55285",
   "metadata": {},
   "outputs": [
    {
     "name": "stdout",
     "output_type": "stream",
     "text": [
      "stage_001\n",
      "stage_002\n",
      "stage_003\n",
      "stage_004\n",
      "stage_005\n",
      "stage_006\n",
      "stage_007\n",
      "stage_008\n",
      "stage_009\n"
     ]
    }
   ],
   "source": [
    "index = 0\n",
    "\n",
    "for table in feature_tables:\n",
    "    \n",
    "    index += 1\n",
    "\n",
    "    columns = sql(f\"\"\"\n",
    "    select * from {table} limit 1\n",
    "    \"\"\")\n",
    "    \n",
    "    columns_last = sql(f\"\"\"\n",
    "    select * from stage_{index-1:03d} limit 1\n",
    "    \"\"\")\n",
    "\n",
    "    ## features\n",
    "    \n",
    "    sql_feature = []\n",
    "\n",
    "    for c in columns:\n",
    "        if 'feature_' in c:\n",
    "            sql_feature.append(f\"b.{c}\")\n",
    "    for c in columns_last:\n",
    "        if 'feature_' in c:\n",
    "            sql_feature.append(f\"a.{c}\")\n",
    "\n",
    "    sql_feature = \",\\n\".join(sql_feature)\n",
    "\n",
    "    ## joins \n",
    "    \n",
    "    sql_join = []\n",
    "\n",
    "    for c in feature_tables[table]:\n",
    "        sql_join.append(f\"a.{c} = b.{c}\")\n",
    "\n",
    "    sql_join = \"\\nand \".join(sql_join)\n",
    "    \n",
    "    ## excute sql\n",
    "\n",
    "    sql(f\"\"\"\n",
    "    select \n",
    "    a.Date,\n",
    "    {sql_feature}\n",
    "    from stage_{index-1:03d} as a\n",
    "    left join {table} as b\n",
    "    on {sql_join}\n",
    "    \"\"\").to_sql(\n",
    "        f\"stage_{index:03d}\", \n",
    "        conn,\n",
    "        if_exists = \"replace\",\n",
    "        )\n",
    "    \n",
    "    print(f\"stage_{index:03d}\")"
   ]
  },
  {
   "cell_type": "code",
   "execution_count": 14,
   "id": "f1e97f1f",
   "metadata": {},
   "outputs": [
    {
     "data": {
      "text/html": [
       "<div>\n",
       "<style scoped>\n",
       "    .dataframe tbody tr th:only-of-type {\n",
       "        vertical-align: middle;\n",
       "    }\n",
       "\n",
       "    .dataframe tbody tr th {\n",
       "        vertical-align: top;\n",
       "    }\n",
       "\n",
       "    .dataframe thead th {\n",
       "        text-align: right;\n",
       "    }\n",
       "</style>\n",
       "<table border=\"1\" class=\"dataframe\">\n",
       "  <thead>\n",
       "    <tr style=\"text-align: right;\">\n",
       "      <th></th>\n",
       "      <th>count(*)</th>\n",
       "      <th>count(distinct Date)</th>\n",
       "    </tr>\n",
       "  </thead>\n",
       "  <tbody>\n",
       "    <tr>\n",
       "      <th>0</th>\n",
       "      <td>9514</td>\n",
       "      <td>9514</td>\n",
       "    </tr>\n",
       "  </tbody>\n",
       "</table>\n",
       "</div>"
      ],
      "text/plain": [
       "   count(*)  count(distinct Date)\n",
       "0      9514                  9514"
      ]
     },
     "execution_count": 14,
     "metadata": {},
     "output_type": "execute_result"
    }
   ],
   "source": [
    "sql(f\"\"\"\n",
    "select \n",
    "count(*),\n",
    "count(distinct Date)\n",
    "from stage_{index:03d}\n",
    "\"\"\")"
   ]
  },
  {
   "cell_type": "code",
   "execution_count": 15,
   "id": "6d4ff689",
   "metadata": {},
   "outputs": [
    {
     "data": {
      "text/plain": [
       "9514"
      ]
     },
     "execution_count": 15,
     "metadata": {},
     "output_type": "execute_result"
    }
   ],
   "source": [
    "sql(f\"\"\"\n",
    "select *\n",
    "from stage_{index:03d}\n",
    "order by Date asc\n",
    "\"\"\").to_sql(\n",
    "    \"features\", \n",
    "    conn,\n",
    "    if_exists = \"replace\",\n",
    "    )"
   ]
  },
  {
   "cell_type": "markdown",
   "id": "55a0469a",
   "metadata": {},
   "source": [
    "# save to parquet"
   ]
  },
  {
   "cell_type": "code",
   "execution_count": 16,
   "id": "2ecd5b0e",
   "metadata": {},
   "outputs": [],
   "source": [
    "sql(f\"\"\"\n",
    "select *\n",
    "from stage_{index:03d}\n",
    "order by Date asc\n",
    "\"\"\").to_parquet(\n",
    "    os.path.join(\n",
    "    data_path,\n",
    "    \"NDX_features.parquet\"),\n",
    "    index = False\n",
    ")"
   ]
  },
  {
   "cell_type": "markdown",
   "id": "2b932777",
   "metadata": {},
   "source": [
    "# end"
   ]
  }
 ],
 "metadata": {
  "kernelspec": {
   "display_name": "Python 3 (ipykernel)",
   "language": "python",
   "name": "python3"
  },
  "language_info": {
   "codemirror_mode": {
    "name": "ipython",
    "version": 3
   },
   "file_extension": ".py",
   "mimetype": "text/x-python",
   "name": "python",
   "nbconvert_exporter": "python",
   "pygments_lexer": "ipython3",
   "version": "3.10.6"
  }
 },
 "nbformat": 4,
 "nbformat_minor": 5
}
